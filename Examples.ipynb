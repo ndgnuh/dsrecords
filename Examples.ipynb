{
 "cells": [
  {
   "cell_type": "markdown",
   "id": "daeea2ba-c704-460a-b994-35eabe488855",
   "metadata": {},
   "source": [
    "#### Import dsrecords (and other libs)"
   ]
  },
  {
   "cell_type": "code",
   "execution_count": 1,
   "id": "629ddf65-b80d-4051-a679-d515cc727f4e",
   "metadata": {},
   "outputs": [],
   "source": [
    "import random\n",
    "from dsrecords import EzRecordDataset, make_dataset, io\n",
    "from torchvision import datasets\n",
    "from tqdm import tqdm"
   ]
  },
  {
   "cell_type": "markdown",
   "id": "547f208b-98fc-4e09-a917-f4991e0a66ff",
   "metadata": {},
   "source": [
    "#### Load the original dataset\n",
    "\n",
    "This example uses the MNIST dataset"
   ]
  },
  {
   "cell_type": "code",
   "execution_count": 2,
   "id": "bff0c190-8a28-4515-8d9a-23ec4d8c2852",
   "metadata": {},
   "outputs": [
    {
     "data": {
      "text/plain": [
       "(<PIL.Image.Image image mode=L size=28x28>, 5)"
      ]
     },
     "execution_count": 2,
     "metadata": {},
     "output_type": "execute_result"
    }
   ],
   "source": [
    "data = datasets.MNIST(\"MNIST\", download=True)\n",
    "data[0]"
   ]
  },
  {
   "cell_type": "markdown",
   "id": "43a491a5-fab4-4a53-99bf-27efaef21e7a",
   "metadata": {},
   "source": [
    "####  Setup schemas\n",
    "\n",
    "Notice that the data sample is a PIL image and an int:\n",
    "\n",
    "```python\n",
    "(<PIL.Image.Image image mode=L size=28x28>, 5)\n",
    "```"
   ]
  },
  {
   "cell_type": "code",
   "execution_count": 3,
   "id": "17f965a7-39d0-4076-b0b6-715751e8a0cd",
   "metadata": {},
   "outputs": [],
   "source": [
    "serializers = [io.pil_serialize, io.int32_serialize]\n",
    "deserializers = [io.pil_deserialize, io.int32_deserialize]"
   ]
  },
  {
   "cell_type": "markdown",
   "id": "616ead66-fb10-46e1-9512-a82e62f175d5",
   "metadata": {},
   "source": [
    "#### Generate packed dataset"
   ]
  },
  {
   "cell_type": "code",
   "execution_count": 4,
   "id": "cff4aabe-118f-4f89-b5b4-d70d843a8055",
   "metadata": {},
   "outputs": [
    {
     "name": "stderr",
     "output_type": "stream",
     "text": [
      "100%|████████████████████████████████████████████████████████████████████████████████████████████████████████████████████████████████████████████████████████████████| 60000/60000 [00:04<00:00, 14615.92it/s]\n"
     ]
    }
   ],
   "source": [
    "data_file, index_file = make_dataset(tqdm(data), \"mnist.rec\", serializers=serializers)"
   ]
  },
  {
   "cell_type": "markdown",
   "id": "1d23de54-6b3f-42a9-8a33-8708853ac732",
   "metadata": {},
   "source": [
    "#### Load the newly packed dataset"
   ]
  },
  {
   "cell_type": "code",
   "execution_count": 5,
   "id": "54b50d3f-4526-4226-bfc6-d07e1a26ac82",
   "metadata": {},
   "outputs": [
    {
     "name": "stdout",
     "output_type": "stream",
     "text": [
      "Length: 60000\n",
      "Target = 3\n"
     ]
    },
    {
     "data": {
      "image/jpeg": "[encoded data removed]",
      "image/png": "[encoded data removed]",
      "text/plain": [
       "<PIL.JpegImagePlugin.JpegImageFile image mode=L size=28x28>"
      ]
     },
     "execution_count": 5,
     "metadata": {},
     "output_type": "execute_result"
    }
   ],
   "source": [
    "dataset = EzRecordDataset(data_file, deserializers)\n",
    "print(\"Length:\", len(dataset))\n",
    "idx = random.randint(0, len(dataset) - 1)\n",
    "image, target = dataset[idx]\n",
    "print(f\"Target = {target}\")\n",
    "image"
   ]
  },
  {
   "cell_type": "markdown",
   "id": "6d539f21-132f-4ebc-92d4-d5de27e9defd",
   "metadata": {},
   "source": [
    "#### These are the packed files"
   ]
  }
 ],
 "metadata": {
  "kernelspec": {
   "display_name": "Python 3 (ipykernel)",
   "language": "python",
   "name": "python3"
  },
  "language_info": {
   "codemirror_mode": {
    "name": "ipython",
    "version": 3
   },
   "file_extension": ".py",
   "mimetype": "text/x-python",
   "name": "python",
   "nbconvert_exporter": "python",
   "pygments_lexer": "ipython3",
   "version": "3.11.4"
  }
 },
 "nbformat": 4,
 "nbformat_minor": 5
}
