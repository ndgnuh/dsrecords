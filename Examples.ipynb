{
 "cells": [
  {
   "cell_type": "markdown",
   "id": "daeea2ba-c704-460a-b994-35eabe488855",
   "metadata": {},
   "source": [
    "#### Import ezrecords (and other libs)"
   ]
  },
  {
   "cell_type": "code",
   "execution_count": 6,
   "id": "629ddf65-b80d-4051-a679-d515cc727f4e",
   "metadata": {},
   "outputs": [],
   "source": [
    "from ezrecords import EzRecordDataset, RecordFormat, make_dataset"
   ]
  },
  {
   "cell_type": "markdown",
   "id": "547f208b-98fc-4e09-a917-f4991e0a66ff",
   "metadata": {},
   "source": [
    "#### Load the original dataset"
   ]
  },
  {
   "cell_type": "code",
   "execution_count": 23,
   "id": "bff0c190-8a28-4515-8d9a-23ec4d8c2852",
   "metadata": {},
   "outputs": [],
   "source": [
    "import random\n",
    "from PIL import Image\n",
    "\n",
    "def load_data(n: int = 1000):\n",
    "    # Simulate image folder...\n",
    "    for i in range(n):\n",
    "        target = i\n",
    "        r = random.randint(0, 255)\n",
    "        g = random.randint(0, 255)\n",
    "        b = random.randint(0, 255)\n",
    "        image = Image.new(\"RGB\", (112, 112), (r, g, b))\n",
    "        yield image, target"
   ]
  },
  {
   "cell_type": "markdown",
   "id": "65ff39dc-05d3-4643-93e6-26ccd453e9a3",
   "metadata": {},
   "source": [
    "#### Write serializer"
   ]
  },
  {
   "cell_type": "code",
   "execution_count": 19,
   "id": "bff923dc-b147-45bb-9abf-40f97743d928",
   "metadata": {},
   "outputs": [],
   "source": [
    "import struct\n",
    "from PIL import Image\n",
    "from io import BytesIO\n",
    "from dataclasses import dataclass\n",
    "\n",
    "@dataclass\n",
    "class ImageWithTarget(RecordFormat):\n",
    "    jpeg_quality: int = 95\n",
    "    \n",
    "    def serialize(self, data):\n",
    "        image, target = data\n",
    "        io = BytesIO()\n",
    "        image.save(io, \"JPEG\", quality=self.jpeg_quality)\n",
    "        image_bin = io.getvalue()\n",
    "        target_bin = struct.pack(\"<L\", target)\n",
    "        return image_bin, target_bin\n",
    "\n",
    "    def deserialize(self, bins):\n",
    "        image_bin, target_bin = bins\n",
    "        image = Image.open(BytesIO(image_bin))\n",
    "        image.load()\n",
    "        target, = struct.unpack(\"<L\", target_bin)\n",
    "        return image, target"
   ]
  },
  {
   "cell_type": "markdown",
   "id": "616ead66-fb10-46e1-9512-a82e62f175d5",
   "metadata": {},
   "source": [
    "#### Generate packed dataset"
   ]
  },
  {
   "cell_type": "code",
   "execution_count": 20,
   "id": "9027cff5-5316-419b-ab93-03c35880347d",
   "metadata": {},
   "outputs": [],
   "source": [
    "fmt = ImageWithTarget(jpeg_quality=90)"
   ]
  },
  {
   "cell_type": "code",
   "execution_count": 24,
   "id": "cff4aabe-118f-4f89-b5b4-d70d843a8055",
   "metadata": {},
   "outputs": [],
   "source": [
    "data_file, index_file = make_dataset(load_data(100), \"data.rec\", \"data.idx\", record_format=fmt)"
   ]
  },
  {
   "cell_type": "markdown",
   "id": "1d23de54-6b3f-42a9-8a33-8708853ac732",
   "metadata": {},
   "source": [
    "#### Load the newly packed dataset"
   ]
  },
  {
   "cell_type": "code",
   "execution_count": 25,
   "id": "54b50d3f-4526-4226-bfc6-d07e1a26ac82",
   "metadata": {},
   "outputs": [
    {
     "name": "stdout",
     "output_type": "stream",
     "text": [
      "Length: 100\n",
      "42\n"
     ]
    },
    {
     "data": {
      "image/jpeg": "[encoded data removed]",
      "image/png": "[encoded data removed]",
      "text/plain": [
       "<PIL.JpegImagePlugin.JpegImageFile image mode=RGB size=112x112>"
      ]
     },
     "execution_count": 25,
     "metadata": {},
     "output_type": "execute_result"
    }
   ],
   "source": [
    "dataset = EzRecordDataset(data_file, index_file, fmt)\n",
    "print(\"Length:\", len(dataset))\n",
    "image, target = dataset[42]\n",
    "print(target)\n",
    "image"
   ]
  }
 ],
 "metadata": {
  "kernelspec": {
   "display_name": "Python 3 (ipykernel)",
   "language": "python",
   "name": "python3"
  },
  "language_info": {
   "codemirror_mode": {
    "name": "ipython",
    "version": 3
   },
   "file_extension": ".py",
   "mimetype": "text/x-python",
   "name": "python",
   "nbconvert_exporter": "python",
   "pygments_lexer": "ipython3",
   "version": "3.11.4"
  }
 },
 "nbformat": 4,
 "nbformat_minor": 5
}
